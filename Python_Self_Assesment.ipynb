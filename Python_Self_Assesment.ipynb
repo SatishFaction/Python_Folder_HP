{
 "cells": [
  {
   "cell_type": "markdown",
   "metadata": {},
   "source": [
    "1. Generate a random number between 1 and 9 (including 1 and 9). Ask the user to guess the number, then tell them whether they guessed too low, too high, or exactly right.\n",
    "(Hint: remember to use the user input function)\n",
    "Extras:\n",
    "1. Keep the game going until the user types “exit”.\n",
    "2. Keep track of how many guesses the user has taken, and when the game ends, print this out."
   ]
  },
  {
   "cell_type": "code",
   "execution_count": 4,
   "metadata": {},
   "outputs": [
    {
     "name": "stdout",
     "output_type": "stream",
     "text": [
      "Guess a number between 1 and 9-->4\n",
      "Too low\n",
      "Do you want to continue: Press Y to Continue or EXIT to quit : Y\n",
      "Guess a number between 1 and 9-->3\n",
      "Too low\n",
      "Do you want to continue: Press Y to Continue or EXIT to quit : EXIT\n",
      "Your Number of Guesses = 2\n"
     ]
    }
   ],
   "source": [
    "import random\n",
    "count=0\n",
    "while 1 :\n",
    "    a=int(input('Guess a number between 1 and 9-->'))\n",
    "    count+=1\n",
    "    b=random.randint(1,9)\n",
    "    if a==b:\n",
    "        print(\"You Win!!\")\n",
    "    elif a>b:\n",
    "        print(\"Too High\")\n",
    "    else:\n",
    "        print(\"Too low\")\n",
    "    c=str(input(\"Do you want to continue: Press Y to Continue or EXIT to quit : \"))\n",
    "    if c=='Y':\n",
    "        continue\n",
    "    elif c=='EXIT':\n",
    "        print('Your Number of Guesses =',count)\n",
    "        break"
   ]
  },
  {
   "cell_type": "markdown",
   "metadata": {},
   "source": [
    "Print Number Pattern  : Double the number \n",
    "1\n",
    "2 1\n",
    "4 2 1 \n",
    "8 4 2 1 \n",
    "16 8 4 2 1\n",
    "32 16 8 4 2 1\n"
   ]
  },
  {
   "cell_type": "code",
   "execution_count": 5,
   "metadata": {},
   "outputs": [
    {
     "name": "stdout",
     "output_type": "stream",
     "text": [
      " \n",
      "1 \n",
      "22 \n",
      "333 \n",
      "4444 \n",
      "55555 \n"
     ]
    }
   ],
   "source": [
    "rows=6\n",
    "for i in range(rows):\n",
    "    for j in range(i):\n",
    "        print(i,end='')\n",
    "    print(\" \")\n",
    "        \n",
    "    "
   ]
  },
  {
   "cell_type": "markdown",
   "metadata": {},
   "source": [
    "Reverse any number using While Loop.\n",
    "Input - 431\n",
    "Output - 134"
   ]
  },
  {
   "cell_type": "code",
   "execution_count": 7,
   "metadata": {},
   "outputs": [
    {
     "name": "stdout",
     "output_type": "stream",
     "text": [
      "Input a number8651\n",
      "1568\n"
     ]
    }
   ],
   "source": [
    "a=int(input(\"Input a number\"))\n",
    "r=0\n",
    "while a>0:\n",
    "    rem=a%10\n",
    "    r=r*10+rem\n",
    "    a=a//10\n",
    "print(r)\n",
    "    "
   ]
  },
  {
   "cell_type": "markdown",
   "metadata": {},
   "source": [
    "Sum of even numbers in fibonacci series upto the number selected by the user:\n",
    "eg : if the user chooses 20 then the series will be : 1, 2, 3, 5, 8, 13 and the sum will be : 2 + 8\n"
   ]
  },
  {
   "cell_type": "code",
   "execution_count": 19,
   "metadata": {},
   "outputs": [
    {
     "name": "stdout",
     "output_type": "stream",
     "text": [
      "Enter the number of terms: 10\n",
      "44\n"
     ]
    }
   ],
   "source": [
    "n=int(input('Enter the number of terms: '))\n",
    "F0=0\n",
    "f1=1\n",
    "sum_even=0\n",
    "for i in range(0,n):\n",
    "    fib=F0+f1\n",
    "    F0=f1\n",
    "    f1=fib\n",
    "    if fib%2==0:\n",
    "        sum_even=sum_even+fib\n",
    "print(sum_even)\n"
   ]
  },
  {
   "cell_type": "markdown",
   "metadata": {},
   "source": [
    "Select the largest prime number present in the list. (Without using .sort() method)"
   ]
  },
  {
   "cell_type": "code",
   "execution_count": 15,
   "metadata": {},
   "outputs": [
    {
     "name": "stdout",
     "output_type": "stream",
     "text": [
      "Enter a Number13\n",
      "Prime\n"
     ]
    }
   ],
   "source": [
    "num=int(input(\"Enter a Number: \"))\n",
    "for i in range(2,num):\n",
    "    if num%i==0:\n",
    "        print(\"Not Prime\")\n",
    "        break\n",
    "else:\n",
    "    print(\"Prime\")"
   ]
  },
  {
   "cell_type": "code",
   "execution_count": 18,
   "metadata": {},
   "outputs": [
    {
     "name": "stdout",
     "output_type": "stream",
     "text": [
      "3 is  a prime number\n",
      "4 is not a prime number\n",
      "5 is  a prime number\n",
      "7 is  a prime number\n",
      "12 is not a prime number\n",
      "13 is  a prime number\n"
     ]
    }
   ],
   "source": [
    "num=[3,4,5,7,12,13]\n",
    "for x in num:\n",
    "    for i in range(2,x):\n",
    "        if x%i==0:\n",
    "            print(\"%d is not a prime number\"%x)\n",
    "            break\n",
    "    else:\n",
    "        print(\"%d is  a prime number\"%x)"
   ]
  },
  {
   "cell_type": "markdown",
   "metadata": {},
   "source": [
    "nested loops"
   ]
  },
  {
   "cell_type": "code",
   "execution_count": 8,
   "metadata": {},
   "outputs": [],
   "source": [
    "import numpy as np"
   ]
  },
  {
   "cell_type": "code",
   "execution_count": 9,
   "metadata": {},
   "outputs": [
    {
     "name": "stdout",
     "output_type": "stream",
     "text": [
      "[[ 1  2  3  4  5]\n",
      " [ 6  7  8  9 10]\n",
      " [11 12 13 14 15]\n",
      " [16 17 18 19 20]]\n"
     ]
    }
   ],
   "source": [
    "lis=list(range(1,21))\n",
    "no_rows=4\n",
    "no_col=5\n",
    "final_list=list()\n",
    "for i in range(no_rows):\n",
    "    row_list=list()\n",
    "    for j in range(no_col):\n",
    "        row_list.append(lis.pop(0))\n",
    "    final_list.append(row_list)\n",
    "print(np.array(final_list))"
   ]
  },
  {
   "cell_type": "markdown",
   "metadata": {},
   "source": [
    "Co relation matrix from scratch"
   ]
  },
  {
   "cell_type": "code",
   "execution_count": null,
   "metadata": {},
   "outputs": [],
   "source": []
  }
 ],
 "metadata": {
  "kernelspec": {
   "display_name": "Python 3",
   "language": "python",
   "name": "python3"
  },
  "language_info": {
   "codemirror_mode": {
    "name": "ipython",
    "version": 3
   },
   "file_extension": ".py",
   "mimetype": "text/x-python",
   "name": "python",
   "nbconvert_exporter": "python",
   "pygments_lexer": "ipython3",
   "version": "3.8.3"
  }
 },
 "nbformat": 4,
 "nbformat_minor": 4
}
